{
  "nbformat": 4,
  "nbformat_minor": 0,
  "metadata": {
    "colab": {
      "name": "LAB03.ipynb",
      "provenance": [],
      "collapsed_sections": [],
      "include_colab_link": true
    },
    "kernelspec": {
      "name": "python3",
      "display_name": "Python 3"
    },
    "language_info": {
      "name": "python"
    }
  },
  "cells": [
    {
      "cell_type": "markdown",
      "metadata": {
        "id": "view-in-github",
        "colab_type": "text"
      },
      "source": [
        "<a href=\"https://colab.research.google.com/github/Lorrayne23/Banco-de-dados-de-Gerenciamento-de-Corridas/blob/main/LAB03.ipynb\" target=\"_parent\"><img src=\"https://colab.research.google.com/assets/colab-badge.svg\" alt=\"Open In Colab\"/></a>"
      ]
    },
    {
      "cell_type": "code",
      "execution_count": null,
      "metadata": {
        "id": "ZMSSyvxBPiVk",
        "outputId": "fea792b7-a3dc-4c29-f28c-d53e58672839",
        "colab": {
          "base_uri": "https://localhost:8080/"
        }
      },
      "outputs": [
        {
          "output_type": "stream",
          "name": "stdout",
          "text": [
            "Requirement already satisfied: pandas in /usr/local/lib/python3.7/dist-packages (1.3.5)\n",
            "Requirement already satisfied: pytz>=2017.3 in /usr/local/lib/python3.7/dist-packages (from pandas) (2018.9)\n",
            "Requirement already satisfied: python-dateutil>=2.7.3 in /usr/local/lib/python3.7/dist-packages (from pandas) (2.8.2)\n",
            "Requirement already satisfied: numpy>=1.17.3 in /usr/local/lib/python3.7/dist-packages (from pandas) (1.21.5)\n",
            "Requirement already satisfied: six>=1.5 in /usr/local/lib/python3.7/dist-packages (from python-dateutil>=2.7.3->pandas) (1.15.0)\n"
          ]
        }
      ],
      "source": [
        "!pip install pandas"
      ]
    },
    {
      "cell_type": "code",
      "source": [
        "import csv \n",
        "import pandas as pd\n",
        "import matplotlib.pyplot as plt\n",
        "import plotly.offline as py\n",
        "import plotly.graph_objs as go\n",
        "import matplotlib.pyplot as plt\n",
        "import numpy as np\n",
        "import seaborn as sns\n",
        "import plotly.express as px"
      ],
      "metadata": {
        "id": "FyrOJd9_QxY8"
      },
      "execution_count": null,
      "outputs": []
    },
    {
      "cell_type": "code",
      "source": [
        "from google.colab import drive\n",
        "\n",
        "drive.mount('/content/drive')"
      ],
      "metadata": {
        "colab": {
          "base_uri": "https://localhost:8080/"
        },
        "id": "MTZSnhdYS1Vu",
        "outputId": "7a015803-10b2-4da3-869b-bd873e0166c0"
      },
      "execution_count": null,
      "outputs": [
        {
          "output_type": "stream",
          "name": "stdout",
          "text": [
            "Drive already mounted at /content/drive; to attempt to forcibly remount, call drive.mount(\"/content/drive\", force_remount=True).\n"
          ]
        }
      ]
    },
    {
      "cell_type": "code",
      "source": [
        "df = pd.read_csv('/content/drive/My Drive/repositorios/repositorios_populares.csv')\n",
        "df.head()"
      ],
      "metadata": {
        "colab": {
          "base_uri": "https://localhost:8080/",
          "height": 206
        },
        "id": "e22BhqvkS9Mb",
        "outputId": "154e5ea0-1ed2-4356-9850-e58428d3ac12"
      },
      "execution_count": null,
      "outputs": [
        {
          "output_type": "execute_result",
          "data": {
            "text/plain": [
              "   Unnamed: 0                                    Name   Age  \\\n",
              "0           0               freeCodeCamp/freeCodeCamp  2629   \n",
              "1           1                          996icu/996.ICU  1076   \n",
              "2           2  EbookFoundation/free-programming-books  3068   \n",
              "3           3     jwasham/coding-interview-university  2099   \n",
              "4           4                               vuejs/vue  3142   \n",
              "\n",
              "   Total Pull Requests  Total Releases  Updated Primary Language  \\\n",
              "0                16802               0     28.0       JavaScript   \n",
              "1                 1063               0      5.0             None   \n",
              "2                 4320               0      2.0             None   \n",
              "3                  284               0      2.0             None   \n",
              "4                 1071             210     75.0       JavaScript   \n",
              "\n",
              "   Closed Issues  Total Issues  \n",
              "0          15698         15828  \n",
              "1              0             0  \n",
              "2            670           695  \n",
              "3            288           325  \n",
              "4           9363          9690  "
            ],
            "text/html": [
              "\n",
              "  <div id=\"df-b91c40f6-f72b-4303-9c05-effde4294e63\">\n",
              "    <div class=\"colab-df-container\">\n",
              "      <div>\n",
              "<style scoped>\n",
              "    .dataframe tbody tr th:only-of-type {\n",
              "        vertical-align: middle;\n",
              "    }\n",
              "\n",
              "    .dataframe tbody tr th {\n",
              "        vertical-align: top;\n",
              "    }\n",
              "\n",
              "    .dataframe thead th {\n",
              "        text-align: right;\n",
              "    }\n",
              "</style>\n",
              "<table border=\"1\" class=\"dataframe\">\n",
              "  <thead>\n",
              "    <tr style=\"text-align: right;\">\n",
              "      <th></th>\n",
              "      <th>Unnamed: 0</th>\n",
              "      <th>Name</th>\n",
              "      <th>Age</th>\n",
              "      <th>Total Pull Requests</th>\n",
              "      <th>Total Releases</th>\n",
              "      <th>Updated</th>\n",
              "      <th>Primary Language</th>\n",
              "      <th>Closed Issues</th>\n",
              "      <th>Total Issues</th>\n",
              "    </tr>\n",
              "  </thead>\n",
              "  <tbody>\n",
              "    <tr>\n",
              "      <th>0</th>\n",
              "      <td>0</td>\n",
              "      <td>freeCodeCamp/freeCodeCamp</td>\n",
              "      <td>2629</td>\n",
              "      <td>16802</td>\n",
              "      <td>0</td>\n",
              "      <td>28.0</td>\n",
              "      <td>JavaScript</td>\n",
              "      <td>15698</td>\n",
              "      <td>15828</td>\n",
              "    </tr>\n",
              "    <tr>\n",
              "      <th>1</th>\n",
              "      <td>1</td>\n",
              "      <td>996icu/996.ICU</td>\n",
              "      <td>1076</td>\n",
              "      <td>1063</td>\n",
              "      <td>0</td>\n",
              "      <td>5.0</td>\n",
              "      <td>None</td>\n",
              "      <td>0</td>\n",
              "      <td>0</td>\n",
              "    </tr>\n",
              "    <tr>\n",
              "      <th>2</th>\n",
              "      <td>2</td>\n",
              "      <td>EbookFoundation/free-programming-books</td>\n",
              "      <td>3068</td>\n",
              "      <td>4320</td>\n",
              "      <td>0</td>\n",
              "      <td>2.0</td>\n",
              "      <td>None</td>\n",
              "      <td>670</td>\n",
              "      <td>695</td>\n",
              "    </tr>\n",
              "    <tr>\n",
              "      <th>3</th>\n",
              "      <td>3</td>\n",
              "      <td>jwasham/coding-interview-university</td>\n",
              "      <td>2099</td>\n",
              "      <td>284</td>\n",
              "      <td>0</td>\n",
              "      <td>2.0</td>\n",
              "      <td>None</td>\n",
              "      <td>288</td>\n",
              "      <td>325</td>\n",
              "    </tr>\n",
              "    <tr>\n",
              "      <th>4</th>\n",
              "      <td>4</td>\n",
              "      <td>vuejs/vue</td>\n",
              "      <td>3142</td>\n",
              "      <td>1071</td>\n",
              "      <td>210</td>\n",
              "      <td>75.0</td>\n",
              "      <td>JavaScript</td>\n",
              "      <td>9363</td>\n",
              "      <td>9690</td>\n",
              "    </tr>\n",
              "  </tbody>\n",
              "</table>\n",
              "</div>\n",
              "      <button class=\"colab-df-convert\" onclick=\"convertToInteractive('df-b91c40f6-f72b-4303-9c05-effde4294e63')\"\n",
              "              title=\"Convert this dataframe to an interactive table.\"\n",
              "              style=\"display:none;\">\n",
              "        \n",
              "  <svg xmlns=\"http://www.w3.org/2000/svg\" height=\"24px\"viewBox=\"0 0 24 24\"\n",
              "       width=\"24px\">\n",
              "    <path d=\"M0 0h24v24H0V0z\" fill=\"none\"/>\n",
              "    <path d=\"M18.56 5.44l.94 2.06.94-2.06 2.06-.94-2.06-.94-.94-2.06-.94 2.06-2.06.94zm-11 1L8.5 8.5l.94-2.06 2.06-.94-2.06-.94L8.5 2.5l-.94 2.06-2.06.94zm10 10l.94 2.06.94-2.06 2.06-.94-2.06-.94-.94-2.06-.94 2.06-2.06.94z\"/><path d=\"M17.41 7.96l-1.37-1.37c-.4-.4-.92-.59-1.43-.59-.52 0-1.04.2-1.43.59L10.3 9.45l-7.72 7.72c-.78.78-.78 2.05 0 2.83L4 21.41c.39.39.9.59 1.41.59.51 0 1.02-.2 1.41-.59l7.78-7.78 2.81-2.81c.8-.78.8-2.07 0-2.86zM5.41 20L4 18.59l7.72-7.72 1.47 1.35L5.41 20z\"/>\n",
              "  </svg>\n",
              "      </button>\n",
              "      \n",
              "  <style>\n",
              "    .colab-df-container {\n",
              "      display:flex;\n",
              "      flex-wrap:wrap;\n",
              "      gap: 12px;\n",
              "    }\n",
              "\n",
              "    .colab-df-convert {\n",
              "      background-color: #E8F0FE;\n",
              "      border: none;\n",
              "      border-radius: 50%;\n",
              "      cursor: pointer;\n",
              "      display: none;\n",
              "      fill: #1967D2;\n",
              "      height: 32px;\n",
              "      padding: 0 0 0 0;\n",
              "      width: 32px;\n",
              "    }\n",
              "\n",
              "    .colab-df-convert:hover {\n",
              "      background-color: #E2EBFA;\n",
              "      box-shadow: 0px 1px 2px rgba(60, 64, 67, 0.3), 0px 1px 3px 1px rgba(60, 64, 67, 0.15);\n",
              "      fill: #174EA6;\n",
              "    }\n",
              "\n",
              "    [theme=dark] .colab-df-convert {\n",
              "      background-color: #3B4455;\n",
              "      fill: #D2E3FC;\n",
              "    }\n",
              "\n",
              "    [theme=dark] .colab-df-convert:hover {\n",
              "      background-color: #434B5C;\n",
              "      box-shadow: 0px 1px 3px 1px rgba(0, 0, 0, 0.15);\n",
              "      filter: drop-shadow(0px 1px 2px rgba(0, 0, 0, 0.3));\n",
              "      fill: #FFFFFF;\n",
              "    }\n",
              "  </style>\n",
              "\n",
              "      <script>\n",
              "        const buttonEl =\n",
              "          document.querySelector('#df-b91c40f6-f72b-4303-9c05-effde4294e63 button.colab-df-convert');\n",
              "        buttonEl.style.display =\n",
              "          google.colab.kernel.accessAllowed ? 'block' : 'none';\n",
              "\n",
              "        async function convertToInteractive(key) {\n",
              "          const element = document.querySelector('#df-b91c40f6-f72b-4303-9c05-effde4294e63');\n",
              "          const dataTable =\n",
              "            await google.colab.kernel.invokeFunction('convertToInteractive',\n",
              "                                                     [key], {});\n",
              "          if (!dataTable) return;\n",
              "\n",
              "          const docLinkHtml = 'Like what you see? Visit the ' +\n",
              "            '<a target=\"_blank\" href=https://colab.research.google.com/notebooks/data_table.ipynb>data table notebook</a>'\n",
              "            + ' to learn more about interactive tables.';\n",
              "          element.innerHTML = '';\n",
              "          dataTable['output_type'] = 'display_data';\n",
              "          await google.colab.output.renderOutput(dataTable, element);\n",
              "          const docLink = document.createElement('div');\n",
              "          docLink.innerHTML = docLinkHtml;\n",
              "          element.appendChild(docLink);\n",
              "        }\n",
              "      </script>\n",
              "    </div>\n",
              "  </div>\n",
              "  "
            ]
          },
          "metadata": {},
          "execution_count": 235
        }
      ]
    },
    {
      "cell_type": "code",
      "source": [
        "repositorios_populares = df.drop(columns=['Unnamed: 0'])\n",
        "repositorios_populares.head()"
      ],
      "metadata": {
        "colab": {
          "base_uri": "https://localhost:8080/",
          "height": 206
        },
        "id": "XkxZmGf7T2Gu",
        "outputId": "dd833d97-44b2-4f5c-ebfd-fd76cf43c598"
      },
      "execution_count": null,
      "outputs": [
        {
          "output_type": "execute_result",
          "data": {
            "text/plain": [
              "                                     Name   Age  Total Pull Requests  \\\n",
              "0               freeCodeCamp/freeCodeCamp  2629                16802   \n",
              "1                          996icu/996.ICU  1076                 1063   \n",
              "2  EbookFoundation/free-programming-books  3068                 4320   \n",
              "3     jwasham/coding-interview-university  2099                  284   \n",
              "4                               vuejs/vue  3142                 1071   \n",
              "\n",
              "   Total Releases  Updated Primary Language  Closed Issues  Total Issues  \n",
              "0               0     28.0       JavaScript          15698         15828  \n",
              "1               0      5.0             None              0             0  \n",
              "2               0      2.0             None            670           695  \n",
              "3               0      2.0             None            288           325  \n",
              "4             210     75.0       JavaScript           9363          9690  "
            ],
            "text/html": [
              "\n",
              "  <div id=\"df-10ce6c2d-b299-423e-ab51-fb02d9ead04c\">\n",
              "    <div class=\"colab-df-container\">\n",
              "      <div>\n",
              "<style scoped>\n",
              "    .dataframe tbody tr th:only-of-type {\n",
              "        vertical-align: middle;\n",
              "    }\n",
              "\n",
              "    .dataframe tbody tr th {\n",
              "        vertical-align: top;\n",
              "    }\n",
              "\n",
              "    .dataframe thead th {\n",
              "        text-align: right;\n",
              "    }\n",
              "</style>\n",
              "<table border=\"1\" class=\"dataframe\">\n",
              "  <thead>\n",
              "    <tr style=\"text-align: right;\">\n",
              "      <th></th>\n",
              "      <th>Name</th>\n",
              "      <th>Age</th>\n",
              "      <th>Total Pull Requests</th>\n",
              "      <th>Total Releases</th>\n",
              "      <th>Updated</th>\n",
              "      <th>Primary Language</th>\n",
              "      <th>Closed Issues</th>\n",
              "      <th>Total Issues</th>\n",
              "    </tr>\n",
              "  </thead>\n",
              "  <tbody>\n",
              "    <tr>\n",
              "      <th>0</th>\n",
              "      <td>freeCodeCamp/freeCodeCamp</td>\n",
              "      <td>2629</td>\n",
              "      <td>16802</td>\n",
              "      <td>0</td>\n",
              "      <td>28.0</td>\n",
              "      <td>JavaScript</td>\n",
              "      <td>15698</td>\n",
              "      <td>15828</td>\n",
              "    </tr>\n",
              "    <tr>\n",
              "      <th>1</th>\n",
              "      <td>996icu/996.ICU</td>\n",
              "      <td>1076</td>\n",
              "      <td>1063</td>\n",
              "      <td>0</td>\n",
              "      <td>5.0</td>\n",
              "      <td>None</td>\n",
              "      <td>0</td>\n",
              "      <td>0</td>\n",
              "    </tr>\n",
              "    <tr>\n",
              "      <th>2</th>\n",
              "      <td>EbookFoundation/free-programming-books</td>\n",
              "      <td>3068</td>\n",
              "      <td>4320</td>\n",
              "      <td>0</td>\n",
              "      <td>2.0</td>\n",
              "      <td>None</td>\n",
              "      <td>670</td>\n",
              "      <td>695</td>\n",
              "    </tr>\n",
              "    <tr>\n",
              "      <th>3</th>\n",
              "      <td>jwasham/coding-interview-university</td>\n",
              "      <td>2099</td>\n",
              "      <td>284</td>\n",
              "      <td>0</td>\n",
              "      <td>2.0</td>\n",
              "      <td>None</td>\n",
              "      <td>288</td>\n",
              "      <td>325</td>\n",
              "    </tr>\n",
              "    <tr>\n",
              "      <th>4</th>\n",
              "      <td>vuejs/vue</td>\n",
              "      <td>3142</td>\n",
              "      <td>1071</td>\n",
              "      <td>210</td>\n",
              "      <td>75.0</td>\n",
              "      <td>JavaScript</td>\n",
              "      <td>9363</td>\n",
              "      <td>9690</td>\n",
              "    </tr>\n",
              "  </tbody>\n",
              "</table>\n",
              "</div>\n",
              "      <button class=\"colab-df-convert\" onclick=\"convertToInteractive('df-10ce6c2d-b299-423e-ab51-fb02d9ead04c')\"\n",
              "              title=\"Convert this dataframe to an interactive table.\"\n",
              "              style=\"display:none;\">\n",
              "        \n",
              "  <svg xmlns=\"http://www.w3.org/2000/svg\" height=\"24px\"viewBox=\"0 0 24 24\"\n",
              "       width=\"24px\">\n",
              "    <path d=\"M0 0h24v24H0V0z\" fill=\"none\"/>\n",
              "    <path d=\"M18.56 5.44l.94 2.06.94-2.06 2.06-.94-2.06-.94-.94-2.06-.94 2.06-2.06.94zm-11 1L8.5 8.5l.94-2.06 2.06-.94-2.06-.94L8.5 2.5l-.94 2.06-2.06.94zm10 10l.94 2.06.94-2.06 2.06-.94-2.06-.94-.94-2.06-.94 2.06-2.06.94z\"/><path d=\"M17.41 7.96l-1.37-1.37c-.4-.4-.92-.59-1.43-.59-.52 0-1.04.2-1.43.59L10.3 9.45l-7.72 7.72c-.78.78-.78 2.05 0 2.83L4 21.41c.39.39.9.59 1.41.59.51 0 1.02-.2 1.41-.59l7.78-7.78 2.81-2.81c.8-.78.8-2.07 0-2.86zM5.41 20L4 18.59l7.72-7.72 1.47 1.35L5.41 20z\"/>\n",
              "  </svg>\n",
              "      </button>\n",
              "      \n",
              "  <style>\n",
              "    .colab-df-container {\n",
              "      display:flex;\n",
              "      flex-wrap:wrap;\n",
              "      gap: 12px;\n",
              "    }\n",
              "\n",
              "    .colab-df-convert {\n",
              "      background-color: #E8F0FE;\n",
              "      border: none;\n",
              "      border-radius: 50%;\n",
              "      cursor: pointer;\n",
              "      display: none;\n",
              "      fill: #1967D2;\n",
              "      height: 32px;\n",
              "      padding: 0 0 0 0;\n",
              "      width: 32px;\n",
              "    }\n",
              "\n",
              "    .colab-df-convert:hover {\n",
              "      background-color: #E2EBFA;\n",
              "      box-shadow: 0px 1px 2px rgba(60, 64, 67, 0.3), 0px 1px 3px 1px rgba(60, 64, 67, 0.15);\n",
              "      fill: #174EA6;\n",
              "    }\n",
              "\n",
              "    [theme=dark] .colab-df-convert {\n",
              "      background-color: #3B4455;\n",
              "      fill: #D2E3FC;\n",
              "    }\n",
              "\n",
              "    [theme=dark] .colab-df-convert:hover {\n",
              "      background-color: #434B5C;\n",
              "      box-shadow: 0px 1px 3px 1px rgba(0, 0, 0, 0.15);\n",
              "      filter: drop-shadow(0px 1px 2px rgba(0, 0, 0, 0.3));\n",
              "      fill: #FFFFFF;\n",
              "    }\n",
              "  </style>\n",
              "\n",
              "      <script>\n",
              "        const buttonEl =\n",
              "          document.querySelector('#df-10ce6c2d-b299-423e-ab51-fb02d9ead04c button.colab-df-convert');\n",
              "        buttonEl.style.display =\n",
              "          google.colab.kernel.accessAllowed ? 'block' : 'none';\n",
              "\n",
              "        async function convertToInteractive(key) {\n",
              "          const element = document.querySelector('#df-10ce6c2d-b299-423e-ab51-fb02d9ead04c');\n",
              "          const dataTable =\n",
              "            await google.colab.kernel.invokeFunction('convertToInteractive',\n",
              "                                                     [key], {});\n",
              "          if (!dataTable) return;\n",
              "\n",
              "          const docLinkHtml = 'Like what you see? Visit the ' +\n",
              "            '<a target=\"_blank\" href=https://colab.research.google.com/notebooks/data_table.ipynb>data table notebook</a>'\n",
              "            + ' to learn more about interactive tables.';\n",
              "          element.innerHTML = '';\n",
              "          dataTable['output_type'] = 'display_data';\n",
              "          await google.colab.output.renderOutput(dataTable, element);\n",
              "          const docLink = document.createElement('div');\n",
              "          docLink.innerHTML = docLinkHtml;\n",
              "          element.appendChild(docLink);\n",
              "        }\n",
              "      </script>\n",
              "    </div>\n",
              "  </div>\n",
              "  "
            ]
          },
          "metadata": {},
          "execution_count": 236
        }
      ]
    },
    {
      "cell_type": "code",
      "source": [
        "# Análise de dados Pandas\n",
        "\n",
        "# resumo das informações do data frame\n",
        "repositorios_populares.describe() \n"
      ],
      "metadata": {
        "id": "QDPrutGOVpau",
        "colab": {
          "base_uri": "https://localhost:8080/",
          "height": 300
        },
        "outputId": "f4f02c7f-e728-4365-c9f9-1d95eb95ca6e"
      },
      "execution_count": null,
      "outputs": [
        {
          "output_type": "execute_result",
          "data": {
            "text/plain": [
              "               Age  Total Pull Requests  Total Releases      Updated  \\\n",
              "count  1000.000000          1000.000000     1000.000000  1000.000000   \n",
              "mean   2507.048000          2130.166000       61.370000   210.427000   \n",
              "std     980.494106          6245.536304      127.237418   227.849468   \n",
              "min     211.000000             0.000000        0.000000     0.000000   \n",
              "25%    1818.500000           111.000000        0.000000    50.000000   \n",
              "50%    2487.500000           413.500000       16.000000   144.500000   \n",
              "75%    3148.250000          1398.500000       75.000000   286.250000   \n",
              "max    5077.000000         97753.000000     1585.000000  1404.000000   \n",
              "\n",
              "       Closed Issues   Total Issues  \n",
              "count    1000.000000    1000.000000  \n",
              "mean     2845.767000    3247.569000  \n",
              "std      6398.180798    7031.444578  \n",
              "min         0.000000       0.000000  \n",
              "25%       154.750000     243.000000  \n",
              "50%       925.000000    1151.500000  \n",
              "75%      3060.000000    3451.250000  \n",
              "max    124029.000000  129585.000000  "
            ],
            "text/html": [
              "\n",
              "  <div id=\"df-e14eae19-0a75-49f8-bcc5-8520ff9b8ed1\">\n",
              "    <div class=\"colab-df-container\">\n",
              "      <div>\n",
              "<style scoped>\n",
              "    .dataframe tbody tr th:only-of-type {\n",
              "        vertical-align: middle;\n",
              "    }\n",
              "\n",
              "    .dataframe tbody tr th {\n",
              "        vertical-align: top;\n",
              "    }\n",
              "\n",
              "    .dataframe thead th {\n",
              "        text-align: right;\n",
              "    }\n",
              "</style>\n",
              "<table border=\"1\" class=\"dataframe\">\n",
              "  <thead>\n",
              "    <tr style=\"text-align: right;\">\n",
              "      <th></th>\n",
              "      <th>Age</th>\n",
              "      <th>Total Pull Requests</th>\n",
              "      <th>Total Releases</th>\n",
              "      <th>Updated</th>\n",
              "      <th>Closed Issues</th>\n",
              "      <th>Total Issues</th>\n",
              "    </tr>\n",
              "  </thead>\n",
              "  <tbody>\n",
              "    <tr>\n",
              "      <th>count</th>\n",
              "      <td>1000.000000</td>\n",
              "      <td>1000.000000</td>\n",
              "      <td>1000.000000</td>\n",
              "      <td>1000.000000</td>\n",
              "      <td>1000.000000</td>\n",
              "      <td>1000.000000</td>\n",
              "    </tr>\n",
              "    <tr>\n",
              "      <th>mean</th>\n",
              "      <td>2507.048000</td>\n",
              "      <td>2130.166000</td>\n",
              "      <td>61.370000</td>\n",
              "      <td>210.427000</td>\n",
              "      <td>2845.767000</td>\n",
              "      <td>3247.569000</td>\n",
              "    </tr>\n",
              "    <tr>\n",
              "      <th>std</th>\n",
              "      <td>980.494106</td>\n",
              "      <td>6245.536304</td>\n",
              "      <td>127.237418</td>\n",
              "      <td>227.849468</td>\n",
              "      <td>6398.180798</td>\n",
              "      <td>7031.444578</td>\n",
              "    </tr>\n",
              "    <tr>\n",
              "      <th>min</th>\n",
              "      <td>211.000000</td>\n",
              "      <td>0.000000</td>\n",
              "      <td>0.000000</td>\n",
              "      <td>0.000000</td>\n",
              "      <td>0.000000</td>\n",
              "      <td>0.000000</td>\n",
              "    </tr>\n",
              "    <tr>\n",
              "      <th>25%</th>\n",
              "      <td>1818.500000</td>\n",
              "      <td>111.000000</td>\n",
              "      <td>0.000000</td>\n",
              "      <td>50.000000</td>\n",
              "      <td>154.750000</td>\n",
              "      <td>243.000000</td>\n",
              "    </tr>\n",
              "    <tr>\n",
              "      <th>50%</th>\n",
              "      <td>2487.500000</td>\n",
              "      <td>413.500000</td>\n",
              "      <td>16.000000</td>\n",
              "      <td>144.500000</td>\n",
              "      <td>925.000000</td>\n",
              "      <td>1151.500000</td>\n",
              "    </tr>\n",
              "    <tr>\n",
              "      <th>75%</th>\n",
              "      <td>3148.250000</td>\n",
              "      <td>1398.500000</td>\n",
              "      <td>75.000000</td>\n",
              "      <td>286.250000</td>\n",
              "      <td>3060.000000</td>\n",
              "      <td>3451.250000</td>\n",
              "    </tr>\n",
              "    <tr>\n",
              "      <th>max</th>\n",
              "      <td>5077.000000</td>\n",
              "      <td>97753.000000</td>\n",
              "      <td>1585.000000</td>\n",
              "      <td>1404.000000</td>\n",
              "      <td>124029.000000</td>\n",
              "      <td>129585.000000</td>\n",
              "    </tr>\n",
              "  </tbody>\n",
              "</table>\n",
              "</div>\n",
              "      <button class=\"colab-df-convert\" onclick=\"convertToInteractive('df-e14eae19-0a75-49f8-bcc5-8520ff9b8ed1')\"\n",
              "              title=\"Convert this dataframe to an interactive table.\"\n",
              "              style=\"display:none;\">\n",
              "        \n",
              "  <svg xmlns=\"http://www.w3.org/2000/svg\" height=\"24px\"viewBox=\"0 0 24 24\"\n",
              "       width=\"24px\">\n",
              "    <path d=\"M0 0h24v24H0V0z\" fill=\"none\"/>\n",
              "    <path d=\"M18.56 5.44l.94 2.06.94-2.06 2.06-.94-2.06-.94-.94-2.06-.94 2.06-2.06.94zm-11 1L8.5 8.5l.94-2.06 2.06-.94-2.06-.94L8.5 2.5l-.94 2.06-2.06.94zm10 10l.94 2.06.94-2.06 2.06-.94-2.06-.94-.94-2.06-.94 2.06-2.06.94z\"/><path d=\"M17.41 7.96l-1.37-1.37c-.4-.4-.92-.59-1.43-.59-.52 0-1.04.2-1.43.59L10.3 9.45l-7.72 7.72c-.78.78-.78 2.05 0 2.83L4 21.41c.39.39.9.59 1.41.59.51 0 1.02-.2 1.41-.59l7.78-7.78 2.81-2.81c.8-.78.8-2.07 0-2.86zM5.41 20L4 18.59l7.72-7.72 1.47 1.35L5.41 20z\"/>\n",
              "  </svg>\n",
              "      </button>\n",
              "      \n",
              "  <style>\n",
              "    .colab-df-container {\n",
              "      display:flex;\n",
              "      flex-wrap:wrap;\n",
              "      gap: 12px;\n",
              "    }\n",
              "\n",
              "    .colab-df-convert {\n",
              "      background-color: #E8F0FE;\n",
              "      border: none;\n",
              "      border-radius: 50%;\n",
              "      cursor: pointer;\n",
              "      display: none;\n",
              "      fill: #1967D2;\n",
              "      height: 32px;\n",
              "      padding: 0 0 0 0;\n",
              "      width: 32px;\n",
              "    }\n",
              "\n",
              "    .colab-df-convert:hover {\n",
              "      background-color: #E2EBFA;\n",
              "      box-shadow: 0px 1px 2px rgba(60, 64, 67, 0.3), 0px 1px 3px 1px rgba(60, 64, 67, 0.15);\n",
              "      fill: #174EA6;\n",
              "    }\n",
              "\n",
              "    [theme=dark] .colab-df-convert {\n",
              "      background-color: #3B4455;\n",
              "      fill: #D2E3FC;\n",
              "    }\n",
              "\n",
              "    [theme=dark] .colab-df-convert:hover {\n",
              "      background-color: #434B5C;\n",
              "      box-shadow: 0px 1px 3px 1px rgba(0, 0, 0, 0.15);\n",
              "      filter: drop-shadow(0px 1px 2px rgba(0, 0, 0, 0.3));\n",
              "      fill: #FFFFFF;\n",
              "    }\n",
              "  </style>\n",
              "\n",
              "      <script>\n",
              "        const buttonEl =\n",
              "          document.querySelector('#df-e14eae19-0a75-49f8-bcc5-8520ff9b8ed1 button.colab-df-convert');\n",
              "        buttonEl.style.display =\n",
              "          google.colab.kernel.accessAllowed ? 'block' : 'none';\n",
              "\n",
              "        async function convertToInteractive(key) {\n",
              "          const element = document.querySelector('#df-e14eae19-0a75-49f8-bcc5-8520ff9b8ed1');\n",
              "          const dataTable =\n",
              "            await google.colab.kernel.invokeFunction('convertToInteractive',\n",
              "                                                     [key], {});\n",
              "          if (!dataTable) return;\n",
              "\n",
              "          const docLinkHtml = 'Like what you see? Visit the ' +\n",
              "            '<a target=\"_blank\" href=https://colab.research.google.com/notebooks/data_table.ipynb>data table notebook</a>'\n",
              "            + ' to learn more about interactive tables.';\n",
              "          element.innerHTML = '';\n",
              "          dataTable['output_type'] = 'display_data';\n",
              "          await google.colab.output.renderOutput(dataTable, element);\n",
              "          const docLink = document.createElement('div');\n",
              "          docLink.innerHTML = docLinkHtml;\n",
              "          element.appendChild(docLink);\n",
              "        }\n",
              "      </script>\n",
              "    </div>\n",
              "  </div>\n",
              "  "
            ]
          },
          "metadata": {},
          "execution_count": 237
        }
      ]
    },
    {
      "cell_type": "code",
      "source": [
        "# Tipo de dados de cada coluna\n",
        "repositorios_populares.dtypes"
      ],
      "metadata": {
        "colab": {
          "base_uri": "https://localhost:8080/"
        },
        "id": "RRZ06kGrXDZ5",
        "outputId": "c4fba658-a676-4941-92cd-9b94b6c7c4d5"
      },
      "execution_count": null,
      "outputs": [
        {
          "output_type": "execute_result",
          "data": {
            "text/plain": [
              "Name                    object\n",
              "Age                      int64\n",
              "Total Pull Requests      int64\n",
              "Total Releases           int64\n",
              "Updated                float64\n",
              "Primary Language        object\n",
              "Closed Issues            int64\n",
              "Total Issues             int64\n",
              "dtype: object"
            ]
          },
          "metadata": {},
          "execution_count": 238
        }
      ]
    },
    {
      "cell_type": "code",
      "source": [
        "# Quantidade total de linhas e colunas\n",
        "repositorios_populares.shape"
      ],
      "metadata": {
        "colab": {
          "base_uri": "https://localhost:8080/"
        },
        "id": "AXoXhW7FXHt0",
        "outputId": "617f205d-ef41-4552-b03b-bff3da975760"
      },
      "execution_count": null,
      "outputs": [
        {
          "output_type": "execute_result",
          "data": {
            "text/plain": [
              "(1000, 8)"
            ]
          },
          "metadata": {},
          "execution_count": 239
        }
      ]
    },
    {
      "cell_type": "code",
      "source": [
        "# RQ 01. Sistemas populares são maduros/antigos?\n",
        "\n",
        "\n",
        "# Análise de Dados\n",
        "\n",
        "age = repositorios_populares['Age']\n",
        "age_describe = age.describe()\n",
        "\n",
        "print(age.describe())\n",
        "\n",
        "\n",
        "# Gráfico\n",
        "\n",
        "repositorios_populares_50 = repositorios_populares.head(50)\n",
        "\n",
        "age_50 = repositorios_populares_50['Age']\n",
        "age_50_describe = age_50.describe()\n",
        "\n",
        "q1 = age_describe['25%']\n",
        "mediana = age_describe['50%']\n",
        "q2 = age_describe['75%']\n",
        "\n",
        "s_q1 = \"{0:.2f}\".format(q1)\n",
        "s_mediana = \"{0:.2f}\".format(mediana)\n",
        "s_q2 = \"{0:.2f}\".format(q2)\n",
        "\n",
        "\n",
        "q1_50 = age_50_describe['25%']\n",
        "mediana_50 = age_50_describe['50%']\n",
        "q2_50 = age_50_describe['75%']\n",
        "\n",
        "\n",
        "s_q1_50 = \"{0:.2f}\".format(q1_50)\n",
        "s_mediana_50 = \"{0:.2f}\".format(mediana_50)\n",
        "s_q2_50 =  \"{0:.2f}\".format(q2_50)\n",
        "\n",
        "\n",
        "font_1 = {'family': 'serif', 'color': 'darkred', 'size':'14'}\n",
        "\n",
        "plt.figure(figsize=(6, 6))\n",
        "plt.boxplot(age)\n",
        "plt.title('Boxplot Ages - 1000 repositories')\n",
        "plt.ylabel('age')\n",
        "plt.text(1, q1, s_q1, fontdict=font_1)\n",
        "plt.text(1, mediana, s_mediana, fontdict=font_1)\n",
        "plt.text(1, q2, s_q2, fontdict=font_1)\n",
        "plt.savefig('age-1000.png', format='png')\n",
        "plt.show()\n",
        "\n",
        "plt.figure(figsize=(6, 7))\n",
        "plt.boxplot(age_50)\n",
        "plt.title('Boxplot Ages -  top 50 repositories')\n",
        "plt.ylabel('age')\n",
        "plt.text(1, q1_50, s_q1_50, fontdict=font_1)\n",
        "plt.text(1, mediana_50, s_mediana_50, fontdict=font_1)\n",
        "plt.text(1, q2_50, s_q2_50, fontdict=font_1)\n",
        "fig.savefig('age-50.png', format='png')\n",
        "plt.show()\n",
        "\n"
      ],
      "metadata": {
        "id": "gwc2e2aCYumA",
        "colab": {
          "base_uri": "https://localhost:8080/",
          "height": 977
        },
        "outputId": "640bb915-d3d2-4fc7-f523-f9c1d06c26cb"
      },
      "execution_count": null,
      "outputs": [
        {
          "output_type": "stream",
          "name": "stdout",
          "text": [
            "count    1000.000000\n",
            "mean     2507.048000\n",
            "std       980.494106\n",
            "min       211.000000\n",
            "25%      1818.500000\n",
            "50%      2487.500000\n",
            "75%      3148.250000\n",
            "max      5077.000000\n",
            "Name: Age, dtype: float64\n"
          ]
        },
        {
          "output_type": "display_data",
          "data": {
            "text/plain": [
              "<Figure size 432x432 with 1 Axes>"
            ],
            "image/png": "[encoded data removed]"
          },
          "metadata": {
            "needs_background": "light"
          }
        },
        {
          "output_type": "display_data",
          "data": {
            "text/plain": [
              "<Figure size 432x504 with 1 Axes>"
            ],
            "image/png": "[encoded data removed]"
          },
          "metadata": {
            "needs_background": "light"
          }
        }
      ]
    },
    {
      "cell_type": "code",
      "source": [
        "# RQ 02. Sistemas populares recebem muita contribuição externa?\n",
        "\n",
        "print(repositorios_populares['Total Pull Requests'].describe())\n",
        "\n",
        "\n",
        "plt.scatter(repositorios_populares['Total Pull Requests'],repositorios_populares['Total Releases'])\n",
        "plt.xlabel('Total Pull Requests')\n",
        "plt.ylabel('Total Releases')\n",
        "plt.title('Relação Total Pull Requests x Total de Releases')\n",
        "plt.savefig('Total Pull Requests x Total de Releases.png', format='png')\n",
        "\n",
        "\n",
        "\n"
      ],
      "metadata": {
        "id": "764S8eu3dR7v",
        "colab": {
          "base_uri": "https://localhost:8080/",
          "height": 455
        },
        "outputId": "37a8f84a-9d47-450e-c274-f1ac0aca0639"
      },
      "execution_count": null,
      "outputs": [
        {
          "output_type": "stream",
          "name": "stdout",
          "text": [
            "count     1000.000000\n",
            "mean      2130.166000\n",
            "std       6245.536304\n",
            "min          0.000000\n",
            "25%        111.000000\n",
            "50%        413.500000\n",
            "75%       1398.500000\n",
            "max      97753.000000\n",
            "Name: Total Pull Requests, dtype: float64\n"
          ]
        },
        {
          "output_type": "display_data",
          "data": {
            "text/plain": [
              "<Figure size 432x288 with 1 Axes>"
            ],
            "image/png": "[encoded data removed]"
          },
          "metadata": {
            "needs_background": "light"
          }
        }
      ]
    },
    {
      "cell_type": "code",
      "source": [
        "# RQ 03. Sistemas populares lançam releases com frequência?\n",
        "\n",
        "\n",
        "# Análise de dados\n",
        "releases = repositorios_populares['Total Releases']\n",
        "releases_describe = releases.describe()\n",
        "print(releases)\n",
        "print(releases_describe)\n",
        "\n",
        "\n",
        "\n",
        "\n",
        "\n",
        "valores_unicos_releases = repositorios_populares['Total Releases'].unique()\n",
        "top_50 = repositorios_populares.head(50)\n",
        "\n",
        "print(valores_unicos_releases)\n",
        "\n",
        "\n",
        "\n",
        "repositories_0_100 =((repositorios_populares['Total Releases'] >=0 )& (repositorios_populares['Total Releases'] <=100)).sum()\n",
        "repositories_100_500 = ((repositorios_populares['Total Releases'] >100) & (repositorios_populares['Total Releases'] <=500)).sum()\n",
        "repositories_500_1000 = ((repositorios_populares['Total Releases'] >500) & (repositorios_populares['Total Releases'] <=1000)).sum()\n",
        "repositories_1000_2000 = ((repositorios_populares['Total Releases'] >1000) & (repositorios_populares['Total Releases'] <=2000)).sum()\n",
        "\n",
        "repositories2_0_100 =((top_50['Total Releases'] >=0 )& (top_50['Total Releases'] <=100)).sum()\n",
        "repositories2_100_500 = ((top_50['Total Releases'] >100) & (top_50['Total Releases'] <=500)).sum()\n",
        "repositories2_500_1000 = ((top_50['Total Releases'] >500) & (top_50['Total Releases'] <=1000)).sum()\n",
        "repositories2_1000_2000 = ((top_50['Total Releases'] >1000) & (top_50['Total Releases'] <=2000)).sum()\n",
        "\n",
        "\n",
        "\n",
        "\n",
        "lista_repositories_1000 = [repositories_0_100, repositories_100_500, repositories_500_1000,repositories_1000_2000]\n",
        "lista_repositories_50 = [repositories2_0_100, repositories2_100_500, repositories2_500_1000,repositories2_1000_2000]\n",
        "stages=[\"0 a 100 relases\", \"Mais de 100 realeases até 500 releases\", \"Mais de 500 releases até 1000 releases\", \"Mais de 1000 releases até 2000 releases\"]\n",
        "\n",
        "df_1000 = pd.DataFrame(dict(number=lista_repositories_1000, stage=stages))\n",
        "df_50 = pd.DataFrame(dict(number=lista_repositories_50, stage=stages))\n",
        "\n",
        "df_1000['Tamanho Amostra'] = '100 repositórios'\n",
        "df_50['Tamanho Amostra'] = ' 50 repositórios'\n",
        "df = pd.concat([df_1000, df_50], axis=0)\n",
        "fig = px.funnel(df, x='number', y='stage', color='Tamanho Amostra')\n",
        "plt.savefig('repositories-releases.png', format='png')\n",
        "fig.show()\n",
        "\n",
        "\n"
      ],
      "metadata": {
        "colab": {
          "base_uri": "https://localhost:8080/",
          "height": 1000
        },
        "id": "SNGWL2_DdbuK",
        "outputId": "a1165f70-3a16-4f3d-cd01-428e6533ba52"
      },
      "execution_count": null,
      "outputs": [
        {
          "output_type": "stream",
          "name": "stdout",
          "text": [
            "0        0\n",
            "1        0\n",
            "2        0\n",
            "3        0\n",
            "4      210\n",
            "      ... \n",
            "995      0\n",
            "996      0\n",
            "997     14\n",
            "998      0\n",
            "999      0\n",
            "Name: Total Releases, Length: 1000, dtype: int64\n",
            "count    1000.000000\n",
            "mean       61.370000\n",
            "std       127.237418\n",
            "min         0.000000\n",
            "25%         0.000000\n",
            "50%        16.000000\n",
            "75%        75.000000\n",
            "max      1585.000000\n",
            "Name: Total Releases, dtype: float64\n",
            "[   0  210   96  158   76   61  341    1  186  910  177   82    4   34\n",
            "    3  518  276 1366   67  165  145  130  152  449   85  344   49   22\n",
            "   21   56  971   99   44   17   29  101   36   27  376   57  125   10\n",
            "   88   38   77   37   51   16   66  181  536   86  144   20    2   60\n",
            "   47   11   35  191   55   68   28   92  106   32   71  138   25  894\n",
            "   98  153   26  273   39  279  222  172  227   63   69   84  102  215\n",
            "  289  114  119    8   14  319   79  209   72  180  293  148  498  150\n",
            "  247   45   58   41   62  116  155  105   75   91   15  355   46  261\n",
            "  118   78  147  128  103  515  243   13  419  189   40   70  262    7\n",
            "  108  301  169  621   81   19  199  120  115  242  113  315  156   24\n",
            "   83  170  238   18  236  166  139  255  640    9   12    5  254   89\n",
            "  136   48   90  161  353  456  488   54   43  134   53  219  395  324\n",
            "   23   33    6  474   31 1585  122   30   73  100  192   94  271  213\n",
            "  349  207   93  127   65  432   50  110  149  295  224  232  436   80\n",
            "  109 1122  123  594   59  408  176  206  160  187  348  159  220  226\n",
            "  812  107   95  142  566  131  112  205  316   52  218  157  137]\n"
          ]
        },
        {
          "output_type": "display_data",
          "data": {
            "text/html": [
              "<html>\n",
              "<head><meta charset=\"utf-8\" /></head>\n",
              "<body>\n",
              "    <div>            <script src=\"https://cdnjs.cloudflare.com/ajax/libs/mathjax/2.7.5/MathJax.js?config=TeX-AMS-MML_SVG\"></script><script type=\"text/javascript\">if (window.MathJax) {MathJax.Hub.Config({SVG: {font: \"STIX-Web\"}});}</script>                <script type=\"text/javascript\">window.PlotlyConfig = {MathJaxConfig: 'local'};</script>\n",
              "        <script src=\"https://cdn.plot.ly/plotly-2.8.3.min.js\"></script>                <div id=\"91424b86-f9fb-4d8b-8b50-e223732c4bed\" class=\"plotly-graph-div\" style=\"height:525px; width:100%;\"></div>            <script type=\"text/javascript\">                                    window.PLOTLYENV=window.PLOTLYENV || {};                                    if (document.getElementById(\"91424b86-f9fb-4d8b-8b50-e223732c4bed\")) {                    Plotly.newPlot(                        \"91424b86-f9fb-4d8b-8b50-e223732c4bed\",                        [{\"hovertemplate\":\"Tamanho Amostra=100 reposit\\u00f3rios<br>number=%{x}<br>stage=%{y}<extra></extra>\",\"legendgroup\":\"100 reposit\\u00f3rios\",\"marker\":{\"color\":\"#636efa\"},\"name\":\"100 reposit\\u00f3rios\",\"orientation\":\"h\",\"showlegend\":true,\"x\":[817,169,11,3],\"xaxis\":\"x\",\"y\":[\"0 a 100 relases\",\"Mais de 100 realeases at\\u00e9 500 releases\",\"Mais de 500 releases at\\u00e9 1000 releases\",\"Mais de 1000 releases at\\u00e9 2000 releases\"],\"yaxis\":\"y\",\"type\":\"funnel\"},{\"hovertemplate\":\"Tamanho Amostra= 50 reposit\\u00f3rios<br>number=%{x}<br>stage=%{y}<extra></extra>\",\"legendgroup\":\" 50 reposit\\u00f3rios\",\"marker\":{\"color\":\"#EF553B\"},\"name\":\" 50 reposit\\u00f3rios\",\"orientation\":\"h\",\"showlegend\":true,\"x\":[36,11,2,1],\"xaxis\":\"x\",\"y\":[\"0 a 100 relases\",\"Mais de 100 realeases at\\u00e9 500 releases\",\"Mais de 500 releases at\\u00e9 1000 releases\",\"Mais de 1000 releases at\\u00e9 2000 releases\"],\"yaxis\":\"y\",\"type\":\"funnel\"}],                        {\"template\":{\"data\":{\"bar\":[{\"error_x\":{\"color\":\"#2a3f5f\"},\"error_y\":{\"color\":\"#2a3f5f\"},\"marker\":{\"line\":{\"color\":\"#E5ECF6\",\"width\":0.5},\"pattern\":{\"fillmode\":\"overlay\",\"size\":10,\"solidity\":0.2}},\"type\":\"bar\"}],\"barpolar\":[{\"marker\":{\"line\":{\"color\":\"#E5ECF6\",\"width\":0.5},\"pattern\":{\"fillmode\":\"overlay\",\"size\":10,\"solidity\":0.2}},\"type\":\"barpolar\"}],\"carpet\":[{\"aaxis\":{\"endlinecolor\":\"#2a3f5f\",\"gridcolor\":\"white\",\"linecolor\":\"white\",\"minorgridcolor\":\"white\",\"startlinecolor\":\"#2a3f5f\"},\"baxis\":{\"endlinecolor\":\"#2a3f5f\",\"gridcolor\":\"white\",\"linecolor\":\"white\",\"minorgridcolor\":\"white\",\"startlinecolor\":\"#2a3f5f\"},\"type\":\"carpet\"}],\"choropleth\":[{\"colorbar\":{\"outlinewidth\":0,\"ticks\":\"\"},\"type\":\"choropleth\"}],\"contour\":[{\"colorbar\":{\"outlinewidth\":0,\"ticks\":\"\"},\"colorscale\":[[0.0,\"#0d0887\"],[0.1111111111111111,\"#46039f\"],[0.2222222222222222,\"#7201a8\"],[0.3333333333333333,\"#9c179e\"],[0.4444444444444444,\"#bd3786\"],[0.5555555555555556,\"#d8576b\"],[0.6666666666666666,\"#ed7953\"],[0.7777777777777778,\"#fb9f3a\"],[0.8888888888888888,\"#fdca26\"],[1.0,\"#f0f921\"]],\"type\":\"contour\"}],\"contourcarpet\":[{\"colorbar\":{\"outlinewidth\":0,\"ticks\":\"\"},\"type\":\"contourcarpet\"}],\"heatmap\":[{\"colorbar\":{\"outlinewidth\":0,\"ticks\":\"\"},\"colorscale\":[[0.0,\"#0d0887\"],[0.1111111111111111,\"#46039f\"],[0.2222222222222222,\"#7201a8\"],[0.3333333333333333,\"#9c179e\"],[0.4444444444444444,\"#bd3786\"],[0.5555555555555556,\"#d8576b\"],[0.6666666666666666,\"#ed7953\"],[0.7777777777777778,\"#fb9f3a\"],[0.8888888888888888,\"#fdca26\"],[1.0,\"#f0f921\"]],\"type\":\"heatmap\"}],\"heatmapgl\":[{\"colorbar\":{\"outlinewidth\":0,\"ticks\":\"\"},\"colorscale\":[[0.0,\"#0d0887\"],[0.1111111111111111,\"#46039f\"],[0.2222222222222222,\"#7201a8\"],[0.3333333333333333,\"#9c179e\"],[0.4444444444444444,\"#bd3786\"],[0.5555555555555556,\"#d8576b\"],[0.6666666666666666,\"#ed7953\"],[0.7777777777777778,\"#fb9f3a\"],[0.8888888888888888,\"#fdca26\"],[1.0,\"#f0f921\"]],\"type\":\"heatmapgl\"}],\"histogram\":[{\"marker\":{\"pattern\":{\"fillmode\":\"overlay\",\"size\":10,\"solidity\":0.2}},\"type\":\"histogram\"}],\"histogram2d\":[{\"colorbar\":{\"outlinewidth\":0,\"ticks\":\"\"},\"colorscale\":[[0.0,\"#0d0887\"],[0.1111111111111111,\"#46039f\"],[0.2222222222222222,\"#7201a8\"],[0.3333333333333333,\"#9c179e\"],[0.4444444444444444,\"#bd3786\"],[0.5555555555555556,\"#d8576b\"],[0.6666666666666666,\"#ed7953\"],[0.7777777777777778,\"#fb9f3a\"],[0.8888888888888888,\"#fdca26\"],[1.0,\"#f0f921\"]],\"type\":\"histogram2d\"}],\"histogram2dcontour\":[{\"colorbar\":{\"outlinewidth\":0,\"ticks\":\"\"},\"colorscale\":[[0.0,\"#0d0887\"],[0.1111111111111111,\"#46039f\"],[0.2222222222222222,\"#7201a8\"],[0.3333333333333333,\"#9c179e\"],[0.4444444444444444,\"#bd3786\"],[0.5555555555555556,\"#d8576b\"],[0.6666666666666666,\"#ed7953\"],[0.7777777777777778,\"#fb9f3a\"],[0.8888888888888888,\"#fdca26\"],[1.0,\"#f0f921\"]],\"type\":\"histogram2dcontour\"}],\"mesh3d\":[{\"colorbar\":{\"outlinewidth\":0,\"ticks\":\"\"},\"type\":\"mesh3d\"}],\"parcoords\":[{\"line\":{\"colorbar\":{\"outlinewidth\":0,\"ticks\":\"\"}},\"type\":\"parcoords\"}],\"pie\":[{\"automargin\":true,\"type\":\"pie\"}],\"scatter\":[{\"marker\":{\"colorbar\":{\"outlinewidth\":0,\"ticks\":\"\"}},\"type\":\"scatter\"}],\"scatter3d\":[{\"line\":{\"colorbar\":{\"outlinewidth\":0,\"ticks\":\"\"}},\"marker\":{\"colorbar\":{\"outlinewidth\":0,\"ticks\":\"\"}},\"type\":\"scatter3d\"}],\"scattercarpet\":[{\"marker\":{\"colorbar\":{\"outlinewidth\":0,\"ticks\":\"\"}},\"type\":\"scattercarpet\"}],\"scattergeo\":[{\"marker\":{\"colorbar\":{\"outlinewidth\":0,\"ticks\":\"\"}},\"type\":\"scattergeo\"}],\"scattergl\":[{\"marker\":{\"colorbar\":{\"outlinewidth\":0,\"ticks\":\"\"}},\"type\":\"scattergl\"}],\"scattermapbox\":[{\"marker\":{\"colorbar\":{\"outlinewidth\":0,\"ticks\":\"\"}},\"type\":\"scattermapbox\"}],\"scatterpolar\":[{\"marker\":{\"colorbar\":{\"outlinewidth\":0,\"ticks\":\"\"}},\"type\":\"scatterpolar\"}],\"scatterpolargl\":[{\"marker\":{\"colorbar\":{\"outlinewidth\":0,\"ticks\":\"\"}},\"type\":\"scatterpolargl\"}],\"scatterternary\":[{\"marker\":{\"colorbar\":{\"outlinewidth\":0,\"ticks\":\"\"}},\"type\":\"scatterternary\"}],\"surface\":[{\"colorbar\":{\"outlinewidth\":0,\"ticks\":\"\"},\"colorscale\":[[0.0,\"#0d0887\"],[0.1111111111111111,\"#46039f\"],[0.2222222222222222,\"#7201a8\"],[0.3333333333333333,\"#9c179e\"],[0.4444444444444444,\"#bd3786\"],[0.5555555555555556,\"#d8576b\"],[0.6666666666666666,\"#ed7953\"],[0.7777777777777778,\"#fb9f3a\"],[0.8888888888888888,\"#fdca26\"],[1.0,\"#f0f921\"]],\"type\":\"surface\"}],\"table\":[{\"cells\":{\"fill\":{\"color\":\"#EBF0F8\"},\"line\":{\"color\":\"white\"}},\"header\":{\"fill\":{\"color\":\"#C8D4E3\"},\"line\":{\"color\":\"white\"}},\"type\":\"table\"}]},\"layout\":{\"annotationdefaults\":{\"arrowcolor\":\"#2a3f5f\",\"arrowhead\":0,\"arrowwidth\":1},\"autotypenumbers\":\"strict\",\"coloraxis\":{\"colorbar\":{\"outlinewidth\":0,\"ticks\":\"\"}},\"colorscale\":{\"diverging\":[[0,\"#8e0152\"],[0.1,\"#c51b7d\"],[0.2,\"#de77ae\"],[0.3,\"#f1b6da\"],[0.4,\"#fde0ef\"],[0.5,\"#f7f7f7\"],[0.6,\"#e6f5d0\"],[0.7,\"#b8e186\"],[0.8,\"#7fbc41\"],[0.9,\"#4d9221\"],[1,\"#276419\"]],\"sequential\":[[0.0,\"#0d0887\"],[0.1111111111111111,\"#46039f\"],[0.2222222222222222,\"#7201a8\"],[0.3333333333333333,\"#9c179e\"],[0.4444444444444444,\"#bd3786\"],[0.5555555555555556,\"#d8576b\"],[0.6666666666666666,\"#ed7953\"],[0.7777777777777778,\"#fb9f3a\"],[0.8888888888888888,\"#fdca26\"],[1.0,\"#f0f921\"]],\"sequentialminus\":[[0.0,\"#0d0887\"],[0.1111111111111111,\"#46039f\"],[0.2222222222222222,\"#7201a8\"],[0.3333333333333333,\"#9c179e\"],[0.4444444444444444,\"#bd3786\"],[0.5555555555555556,\"#d8576b\"],[0.6666666666666666,\"#ed7953\"],[0.7777777777777778,\"#fb9f3a\"],[0.8888888888888888,\"#fdca26\"],[1.0,\"#f0f921\"]]},\"colorway\":[\"#636efa\",\"#EF553B\",\"#00cc96\",\"#ab63fa\",\"#FFA15A\",\"#19d3f3\",\"#FF6692\",\"#B6E880\",\"#FF97FF\",\"#FECB52\"],\"font\":{\"color\":\"#2a3f5f\"},\"geo\":{\"bgcolor\":\"white\",\"lakecolor\":\"white\",\"landcolor\":\"#E5ECF6\",\"showlakes\":true,\"showland\":true,\"subunitcolor\":\"white\"},\"hoverlabel\":{\"align\":\"left\"},\"hovermode\":\"closest\",\"mapbox\":{\"style\":\"light\"},\"paper_bgcolor\":\"white\",\"plot_bgcolor\":\"#E5ECF6\",\"polar\":{\"angularaxis\":{\"gridcolor\":\"white\",\"linecolor\":\"white\",\"ticks\":\"\"},\"bgcolor\":\"#E5ECF6\",\"radialaxis\":{\"gridcolor\":\"white\",\"linecolor\":\"white\",\"ticks\":\"\"}},\"scene\":{\"xaxis\":{\"backgroundcolor\":\"#E5ECF6\",\"gridcolor\":\"white\",\"gridwidth\":2,\"linecolor\":\"white\",\"showbackground\":true,\"ticks\":\"\",\"zerolinecolor\":\"white\"},\"yaxis\":{\"backgroundcolor\":\"#E5ECF6\",\"gridcolor\":\"white\",\"gridwidth\":2,\"linecolor\":\"white\",\"showbackground\":true,\"ticks\":\"\",\"zerolinecolor\":\"white\"},\"zaxis\":{\"backgroundcolor\":\"#E5ECF6\",\"gridcolor\":\"white\",\"gridwidth\":2,\"linecolor\":\"white\",\"showbackground\":true,\"ticks\":\"\",\"zerolinecolor\":\"white\"}},\"shapedefaults\":{\"line\":{\"color\":\"#2a3f5f\"}},\"ternary\":{\"aaxis\":{\"gridcolor\":\"white\",\"linecolor\":\"white\",\"ticks\":\"\"},\"baxis\":{\"gridcolor\":\"white\",\"linecolor\":\"white\",\"ticks\":\"\"},\"bgcolor\":\"#E5ECF6\",\"caxis\":{\"gridcolor\":\"white\",\"linecolor\":\"white\",\"ticks\":\"\"}},\"title\":{\"x\":0.05},\"xaxis\":{\"automargin\":true,\"gridcolor\":\"white\",\"linecolor\":\"white\",\"ticks\":\"\",\"title\":{\"standoff\":15},\"zerolinecolor\":\"white\",\"zerolinewidth\":2},\"yaxis\":{\"automargin\":true,\"gridcolor\":\"white\",\"linecolor\":\"white\",\"ticks\":\"\",\"title\":{\"standoff\":15},\"zerolinecolor\":\"white\",\"zerolinewidth\":2}}},\"xaxis\":{\"anchor\":\"y\",\"domain\":[0.0,1.0],\"title\":{\"text\":\"number\"}},\"yaxis\":{\"anchor\":\"x\",\"domain\":[0.0,1.0],\"title\":{\"text\":\"stage\"}},\"legend\":{\"title\":{\"text\":\"Tamanho Amostra\"},\"tracegroupgap\":0},\"margin\":{\"t\":60}},                        {\"responsive\": true}                    ).then(function(){\n",
              "                            \n",
              "var gd = document.getElementById('91424b86-f9fb-4d8b-8b50-e223732c4bed');\n",
              "var x = new MutationObserver(function (mutations, observer) {{\n",
              "        var display = window.getComputedStyle(gd).display;\n",
              "        if (!display || display === 'none') {{\n",
              "            console.log([gd, 'removed!']);\n",
              "            Plotly.purge(gd);\n",
              "            observer.disconnect();\n",
              "        }}\n",
              "}});\n",
              "\n",
              "// Listen for the removal of the full notebook cells\n",
              "var notebookContainer = gd.closest('#notebook-container');\n",
              "if (notebookContainer) {{\n",
              "    x.observe(notebookContainer, {childList: true});\n",
              "}}\n",
              "\n",
              "// Listen for the clearing of the current output cell\n",
              "var outputEl = gd.closest('.output');\n",
              "if (outputEl) {{\n",
              "    x.observe(outputEl, {childList: true});\n",
              "}}\n",
              "\n",
              "                        })                };                            </script>        </div>\n",
              "</body>\n",
              "</html>"
            ]
          },
          "metadata": {}
        },
        {
          "output_type": "display_data",
          "data": {
            "text/plain": [
              "<Figure size 432x288 with 0 Axes>"
            ]
          },
          "metadata": {}
        }
      ]
    },
    {
      "cell_type": "code",
      "source": [
        ""
      ],
      "metadata": {
        "id": "x03SeZ33pjB1"
      },
      "execution_count": null,
      "outputs": []
    },
    {
      "cell_type": "code",
      "source": [
        "# RQ 04. Sistemas populares são atualizados com frequência?\n",
        "\n",
        "\n",
        "updated= repositorios_populares['Updated']\n",
        "updated_desc = updated.describe()\n",
        "print(updated_desc)\n",
        "\n",
        "\n",
        "plt.scatter(x=repositorios_populares['Age'],y=repositorios_populares['Updated'] , c='k')\n",
        "\n",
        "plt.xlabel(\"Age\")\n",
        "plt.ylabel(\"Updated\")\n",
        "plt.title('Relação Age x Updated')\n",
        "\n",
        "plt.savefig('Age x Updated.png', format='png')\n",
        "\n",
        "\n",
        "\n",
        "plt.show()"
      ],
      "metadata": {
        "id": "ajpYEyR2dk4Z",
        "colab": {
          "base_uri": "https://localhost:8080/",
          "height": 455
        },
        "outputId": "aa0f87ff-13bd-4fc8-e3c6-a3571cfe4d2e"
      },
      "execution_count": null,
      "outputs": [
        {
          "output_type": "stream",
          "name": "stdout",
          "text": [
            "count    1000.000000\n",
            "mean      210.427000\n",
            "std       227.849468\n",
            "min         0.000000\n",
            "25%        50.000000\n",
            "50%       144.500000\n",
            "75%       286.250000\n",
            "max      1404.000000\n",
            "Name: Updated, dtype: float64\n"
          ]
        },
        {
          "output_type": "display_data",
          "data": {
            "text/plain": [
              "<Figure size 432x288 with 1 Axes>"
            ],
            "image/png": "[encoded data removed]"
          },
          "metadata": {
            "needs_background": "light"
          }
        }
      ]
    },
    {
      "cell_type": "code",
      "source": [
        "# RQ 05. Sistemas populares são escritos nas linguagens mais populares ? OK\n",
        "\n",
        "language = repositorios_populares['Primary Language'].value_counts()\n",
        "language.plot(kind='barh',figsize=(20, 18),color='red')\n",
        "plt.title('Contabilização das Linguagens ')\n",
        "plt.savefig('repositories-languages.png', format='png')\n",
        "print(language)\n",
        "\n"
      ],
      "metadata": {
        "id": "gWcCEo2ndmwt",
        "colab": {
          "base_uri": "https://localhost:8080/",
          "height": 1000
        },
        "outputId": "8cb19c5a-504f-4480-eef2-a1f534ea0e1d"
      },
      "execution_count": null,
      "outputs": [
        {
          "output_type": "stream",
          "name": "stdout",
          "text": [
            "JavaScript          239\n",
            "None                115\n",
            "Python              108\n",
            "TypeScript           95\n",
            "Go                   72\n",
            "Java                 71\n",
            "C++                  50\n",
            "C                    30\n",
            "Shell                22\n",
            "HTML                 22\n",
            "Swift                18\n",
            "Rust                 18\n",
            "Ruby                 17\n",
            "PHP                  14\n",
            "Jupyter Notebook     14\n",
            "Kotlin               12\n",
            "C#                   12\n",
            "CSS                  11\n",
            "Vue                   8\n",
            "Vim script            6\n",
            "Objective-C           5\n",
            "Haskell               4\n",
            "Lua                   3\n",
            "TeX                   3\n",
            "Markdown              3\n",
            "Dart                  3\n",
            "CoffeeScript          2\n",
            "Elixir                2\n",
            "Makefile              2\n",
            "Clojure               2\n",
            "SCSS                  2\n",
            "Scala                 1\n",
            "Julia                 1\n",
            "Dockerfile            1\n",
            "V                     1\n",
            "Roff                  1\n",
            "Jinja                 1\n",
            "Batchfile             1\n",
            "Emacs Lisp            1\n",
            "OCaml                 1\n",
            "Standard ML           1\n",
            "Nunjucks              1\n",
            "Objective-C++         1\n",
            "AsciiDoc              1\n",
            "Assembly              1\n",
            "Crystal               1\n",
            "Name: Primary Language, dtype: int64\n"
          ]
        },
        {
          "output_type": "display_data",
          "data": {
            "text/plain": [
              "<Figure size 1440x1296 with 1 Axes>"
            ],
            "image/png": "[encoded data removed]"
          },
          "metadata": {
            "needs_background": "light"
          }
        }
      ]
    },
    {
      "cell_type": "code",
      "source": [
        "language = repositorios_populares['Primary Language'].value_counts()\n",
        "\n",
        "print(type(language))"
      ],
      "metadata": {
        "colab": {
          "base_uri": "https://localhost:8080/"
        },
        "id": "VGVGEEmI7bk3",
        "outputId": "31980d54-59c0-4982-a8b2-ee04f5385fab"
      },
      "execution_count": null,
      "outputs": [
        {
          "output_type": "stream",
          "name": "stdout",
          "text": [
            "<class 'pandas.core.series.Series'>\n"
          ]
        }
      ]
    },
    {
      "cell_type": "code",
      "source": [
        "# RQ 06. Sistemas populares possuem um alto percentual de issues fechadas?\n",
        "\n",
        "print(sum(repositorios_populares['Closed Issues']))\n",
        "print(sum(repositorios_populares['Total Issues']))\n",
        "print(repositorios_populares['Closed Issues'].describe())\n",
        "\n",
        "plt.plot(repositorios_populares['Closed Issues']/repositorios_populares['Total Issues'],repositorios_populares['Closed Issues'],'b-')\n",
        "\n",
        "\n",
        "plt.title(\"Relação Total de Issues e Closed Issues \")\n",
        "plt.xlabel(\"Razão de Clossed Issues/Total Issues\")\n",
        "plt.ylabel(\"Closed Issues\")\n",
        "plt.savefig('Relação Total de Issues e Closed Issues.png', format='png')\n",
        "\n",
        "\n",
        "plt.show()\n",
        "\n",
        "\n",
        "\n",
        "\n"
      ],
      "metadata": {
        "id": "RaKBU7vwdw7T",
        "colab": {
          "base_uri": "https://localhost:8080/",
          "height": 491
        },
        "outputId": "33f3b60e-77cc-459b-dbd6-a88468ea4ff0"
      },
      "execution_count": null,
      "outputs": [
        {
          "output_type": "stream",
          "name": "stdout",
          "text": [
            "2845767\n",
            "3247569\n",
            "count      1000.000000\n",
            "mean       2845.767000\n",
            "std        6398.180798\n",
            "min           0.000000\n",
            "25%         154.750000\n",
            "50%         925.000000\n",
            "75%        3060.000000\n",
            "max      124029.000000\n",
            "Name: Closed Issues, dtype: float64\n"
          ]
        },
        {
          "output_type": "display_data",
          "data": {
            "text/plain": [
              "<Figure size 432x288 with 1 Axes>"
            ],
            "image/png": "[encoded data removed]"
          },
          "metadata": {
            "needs_background": "light"
          }
        }
      ]
    }
  ]
}